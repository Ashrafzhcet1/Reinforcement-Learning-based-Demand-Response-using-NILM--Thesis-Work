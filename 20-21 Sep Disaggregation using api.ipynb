{
 "cells": [
  {
   "cell_type": "code",
   "execution_count": 45,
   "id": "0236734b",
   "metadata": {},
   "outputs": [],
   "source": [
    "from nilmtk.api import API\n",
    "import warnings\n",
    "warnings.filterwarnings(\"ignore\")"
   ]
  },
  {
   "cell_type": "code",
   "execution_count": 46,
   "id": "78073c78",
   "metadata": {},
   "outputs": [],
   "source": [
    "from nilmtk.disaggregate import CO"
   ]
  },
  {
   "cell_type": "code",
   "execution_count": 47,
   "id": "bbd7237b",
   "metadata": {},
   "outputs": [],
   "source": [
    "experiment1 = {\n",
    "  'power': {'mains': ['active'],'appliance': ['active']},\n",
    "  'sample_rate': 7,\n",
    "  'appliances': ['fridge freezer','kettle','television', 'microwave', 'toaster', 'fan','audio system','dish washer','washing machine'],\n",
    "  'methods': {\"CO\":CO({})},\n",
    "  'train': {    \n",
    "    'datasets': {\n",
    "        'Dataport': {\n",
    "            'path': r'C:\\Users\\Ashraf\\Desktop\\Codes\\Data excel and HDF\\Lstm_Pred_Nilm_Converted_2Days.hdf',\n",
    "            'buildings': {\n",
    "                2: {\n",
    "                    'start_time': '2013-09-20',\n",
    "                    'end_time': '2013-09-21'\n",
    "                    }\n",
    "                }                \n",
    "            }\n",
    "        }\n",
    "    },\n",
    "  'test': {\n",
    "    'datasets': {\n",
    "        'Dataport': {\n",
    "            'path': r'C:\\Users\\Ashraf\\Desktop\\Codes\\Data excel and HDF\\Lstm_Pred_Nilm_Converted_2Days.hdf',\n",
    "            'buildings': {\n",
    "                2: {\n",
    "                    'start_time': '2013-09-21',\n",
    "                    'end_time': '2013-09-21 23:59:00'\n",
    "                    }\n",
    "                }\n",
    "            }\n",
    "        },\n",
    "        'metrics':['rmse']\n",
    "    }\n",
    "}"
   ]
  },
  {
   "cell_type": "code",
   "execution_count": 52,
   "id": "f8c0fd41",
   "metadata": {},
   "outputs": [
    {
     "name": "stdout",
     "output_type": "stream",
     "text": [
      "Joint Testing for all algorithms\n",
      "Loading data for  Dataport  dataset\n",
      "Dropping missing values\n",
      "Generating predictions for : CO\n",
      "...............CO disaggregate_chunk running.............\n",
      "............  rmse  ..............ng machine'\n",
      "                         CO\n",
      "fridge freezer    57.887416\n",
      "kettle           294.630131\n",
      "television        27.119004\n",
      "microwave        141.774593\n",
      "toaster          119.137312\n",
      "fan               25.164081\n",
      "audio system       2.537829\n",
      "dish washer      351.112406\n",
      "washing machine  303.197337\n"
     ]
    }
   ],
   "source": [
    "api_results_experiment_1 = API(experiment1)"
   ]
  },
  {
   "cell_type": "code",
   "execution_count": 53,
   "id": "3a36057d",
   "metadata": {},
   "outputs": [
    {
     "name": "stdout",
     "output_type": "stream",
     "text": [
      "Dataport_2_rmse\n",
      "                         CO\n",
      "fridge freezer    57.887416\n",
      "kettle           294.630131\n",
      "television        27.119004\n",
      "microwave        141.774593\n",
      "toaster          119.137312\n",
      "fan               25.164081\n",
      "audio system       2.537829\n",
      "dish washer      351.112406\n",
      "washing machine  303.197337\n",
      "\n",
      "\n",
      "\n"
     ]
    }
   ],
   "source": [
    "errors_keys = api_results_experiment_1.errors_keys\n",
    "errors = api_results_experiment_1.errors\n",
    "for i in range(len(errors)):\n",
    "    print (errors_keys[i])\n",
    "    print (errors[i])\n",
    "    print (\"\\n\\n\")"
   ]
  },
  {
   "cell_type": "code",
   "execution_count": 54,
   "id": "f21de4f6",
   "metadata": {},
   "outputs": [],
   "source": [
    "from nilmtk import DataSet, TimeFrame\n",
    "from nilmtk.disaggregate import CO\n",
    "from nilmtk import HDFDataStore\n",
    "from pandas import HDFStore\n",
    "from nilmtk.disaggregate import Disaggregator"
   ]
  },
  {
   "cell_type": "code",
   "execution_count": 55,
   "id": "7bed6d14",
   "metadata": {},
   "outputs": [],
   "source": [
    "from __future__ import print_function, division\n",
    "from datetime import datetime\n",
    "from nilmtk.timeframe import merge_timeframes, TimeFrame\n",
    "import numpy as np\n",
    "import pandas as pd"
   ]
  },
  {
   "cell_type": "code",
   "execution_count": 12,
   "id": "895d68f4",
   "metadata": {},
   "outputs": [],
   "source": [
    "from nilmtk.disaggregate import FHMMExact, Mean"
   ]
  },
  {
   "cell_type": "code",
   "execution_count": 19,
   "id": "bd035281",
   "metadata": {},
   "outputs": [],
   "source": [
    "experiment2 = {\n",
    "  'power': {'mains': ['active'],'appliance': ['active']},\n",
    "  'sample_rate': 7,\n",
    "  'appliances': ['fridge freezer','kettle','television', 'microwave', 'toaster', 'fan','audio system','dish washer','washing machine'],\n",
    "  'methods': {\"Mean\":Mean({}),\"FHMM_EXACT\":FHMMExact({'num_of_states':2}), \"CombinatorialOptimisation\":CO({})},\n",
    "  'train': {    \n",
    "    'datasets': {\n",
    "        'Dataport': {\n",
    "            'path': r'C:\\Users\\Ashraf\\Desktop\\Codes\\Data excel and HDF\\Lstm_Pred_Nilm_Converted_2Days.hdf',\n",
    "            'buildings': {\n",
    "                2: {\n",
    "                    'start_time': '2013-09-20 ',\n",
    "                    'end_time': '2013-09-21'\n",
    "                    }\n",
    "                }                \n",
    "            }\n",
    "        }\n",
    "    },\n",
    "  'test': {\n",
    "    'datasets': {\n",
    "        'Dataport': {\n",
    "            'path': r'C:\\Users\\Ashraf\\Desktop\\Codes\\Data excel and HDF\\Lstm_Pred_Nilm_Converted_2Days.hdf',\n",
    "            'buildings': {\n",
    "                2: {\n",
    "                    'start_time': '2013-09-21 ',\n",
    "                    'end_time': '2013-09-21 23:59:00'\n",
    "                    }\n",
    "                }\n",
    "            }\n",
    "        },\n",
    "        'metrics':['mae','rmse']\n",
    "    }\n",
    "}"
   ]
  },
  {
   "cell_type": "code",
   "execution_count": 20,
   "id": "f102e2a0",
   "metadata": {},
   "outputs": [
    {
     "name": "stdout",
     "output_type": "stream",
     "text": [
      "Joint Testing for all algorithms\n",
      "Loading data for  Dataport  dataset\n",
      "Dropping missing values\n",
      "Generating predictions for : Mean\n",
      "Generating predictions for : FHMM\n",
      "Generating predictions for : CO\n",
      "...............CO disaggregate_chunk running.............\n",
      "............  mae  ..............ing machine'\n",
      "                       Mean  FHMM_EXACT  CombinatorialOptimisation\n",
      "fridge freezer    40.245667   12.007297                  41.934010\n",
      "kettle            41.248398   79.019981                  44.235146\n",
      "television        17.984037   36.521484                  14.762180\n",
      "microwave          3.564352    7.187840                  27.078232\n",
      "toaster            6.483491   13.180260                  28.128618\n",
      "fan                1.044386   17.349007                  14.890961\n",
      "audio system       0.299297   16.296959                   0.285043\n",
      "dish washer      113.203316   75.692421                 101.753952\n",
      "washing machine   52.539513   23.480179                  48.478313\n",
      "............  rmse  ..............\n",
      "                       Mean  FHMM_EXACT  CombinatorialOptimisation\n",
      "fridge freezer    41.290843   31.272972                 168.494001\n",
      "kettle           209.275620  436.818881                 297.818593\n",
      "television        19.735621   41.303477                  24.068944\n",
      "microwave         29.628051   69.203801                 142.686884\n",
      "toaster           55.443262  109.942714                 134.864841\n",
      "fan                1.044386   37.254805                  27.665780\n",
      "audio system       2.536228   36.979097                   2.537829\n",
      "dish washer      351.136014  389.556920                 361.279908\n",
      "washing machine   53.439355  199.929900                 276.299755\n"
     ]
    }
   ],
   "source": [
    "api_results_experiment_2 = API(experiment2)"
   ]
  },
  {
   "cell_type": "code",
   "execution_count": 22,
   "id": "2f647c01",
   "metadata": {},
   "outputs": [
    {
     "data": {
      "text/plain": [
       "[                       Mean  FHMM_EXACT  CombinatorialOptimisation\n",
       " fridge freezer    40.245667   12.007297                  41.934010\n",
       " kettle            41.248398   79.019981                  44.235146\n",
       " television        17.984037   36.521484                  14.762180\n",
       " microwave          3.564352    7.187840                  27.078232\n",
       " toaster            6.483491   13.180260                  28.128618\n",
       " fan                1.044386   17.349007                  14.890961\n",
       " audio system       0.299297   16.296959                   0.285043\n",
       " dish washer      113.203316   75.692421                 101.753952\n",
       " washing machine   52.539513   23.480179                  48.478313,\n",
       "                        Mean  FHMM_EXACT  CombinatorialOptimisation\n",
       " fridge freezer    41.290843   31.272972                 168.494001\n",
       " kettle           209.275620  436.818881                 297.818593\n",
       " television        19.735621   41.303477                  24.068944\n",
       " microwave         29.628051   69.203801                 142.686884\n",
       " toaster           55.443262  109.942714                 134.864841\n",
       " fan                1.044386   37.254805                  27.665780\n",
       " audio system       2.536228   36.979097                   2.537829\n",
       " dish washer      351.136014  389.556920                 361.279908\n",
       " washing machine   53.439355  199.929900                 276.299755]"
      ]
     },
     "execution_count": 22,
     "metadata": {},
     "output_type": "execute_result"
    }
   ],
   "source": [
    "api_results_experiment_2.errors"
   ]
  },
  {
   "cell_type": "code",
   "execution_count": 23,
   "id": "7e59c644",
   "metadata": {},
   "outputs": [
    {
     "name": "stdout",
     "output_type": "stream",
     "text": [
      "Dataport_2_mae\n",
      "                       Mean  FHMM_EXACT  CombinatorialOptimisation\n",
      "fridge freezer    40.245667   12.007297                  41.934010\n",
      "kettle            41.248398   79.019981                  44.235146\n",
      "television        17.984037   36.521484                  14.762180\n",
      "microwave          3.564352    7.187840                  27.078232\n",
      "toaster            6.483491   13.180260                  28.128618\n",
      "fan                1.044386   17.349007                  14.890961\n",
      "audio system       0.299297   16.296959                   0.285043\n",
      "dish washer      113.203316   75.692421                 101.753952\n",
      "washing machine   52.539513   23.480179                  48.478313\n",
      "\n",
      "\n",
      "\n",
      "Dataport_2_rmse\n",
      "                       Mean  FHMM_EXACT  CombinatorialOptimisation\n",
      "fridge freezer    41.290843   31.272972                 168.494001\n",
      "kettle           209.275620  436.818881                 297.818593\n",
      "television        19.735621   41.303477                  24.068944\n",
      "microwave         29.628051   69.203801                 142.686884\n",
      "toaster           55.443262  109.942714                 134.864841\n",
      "fan                1.044386   37.254805                  27.665780\n",
      "audio system       2.536228   36.979097                   2.537829\n",
      "dish washer      351.136014  389.556920                 361.279908\n",
      "washing machine   53.439355  199.929900                 276.299755\n",
      "\n",
      "\n",
      "\n"
     ]
    }
   ],
   "source": [
    "errors_keys = api_results_experiment_2.errors_keys\n",
    "errors = api_results_experiment_2.errors\n",
    "for i in range(len(errors)):\n",
    "    print (errors_keys[i])\n",
    "    print (errors[i])\n",
    "    print (\"\\n\\n\")"
   ]
  },
  {
   "cell_type": "code",
   "execution_count": 18,
   "id": "09ca6265",
   "metadata": {},
   "outputs": [],
   "source": [
    "from nilmtk.disaggregate import Hart85"
   ]
  },
  {
   "cell_type": "code",
   "execution_count": 28,
   "id": "a127f9fc",
   "metadata": {},
   "outputs": [],
   "source": [
    "experiment3 = {\n",
    "  'power': {'mains': ['active'],'appliance': ['active']},\n",
    "  'sample_rate': 7,\n",
    "  'appliances': ['fridge freezer','kettle','television', 'microwave', 'toaster', 'fan','audio system','dish washer','washing machine'],\n",
    "  'methods': {\"Mean\":Mean({}),\"Hart85\":Hart85({}), \"FHMM_EXACT\":FHMMExact({'num_of_states':2}), \"CO\":CO({})},\n",
    "  'train': {    \n",
    "    'datasets': {\n",
    "        'Dataport': {\n",
    "            'path': r'C:\\Users\\Ashraf\\Desktop\\Codes\\Data excel and HDF\\Lstm_Pred_Nilm_Converted_2Days.hdf',\n",
    "            'buildings': {\n",
    "                2: {\n",
    "                    'start_time': '2013-09-20 ',\n",
    "                    'end_time': '2013-09-21'\n",
    "                    }\n",
    "                }                \n",
    "            }\n",
    "        }\n",
    "    },\n",
    "  'test': {\n",
    "    'datasets': {\n",
    "        'Dataport': {\n",
    "            'path': r'C:\\Users\\Ashraf\\Desktop\\Codes\\Data excel and HDF\\Lstm_Pred_Nilm_Converted_2Days.hdf',\n",
    "            'buildings': {\n",
    "                2: {\n",
    "                    'start_time': '2013-09-21 ',\n",
    "                    'end_time': '2013-09-21 23:59:00'\n",
    "                    }\n",
    "                }\n",
    "            }\n",
    "        },\n",
    "        'metrics':['mae','rmse']\n",
    "    }\n",
    "}"
   ]
  },
  {
   "cell_type": "code",
   "execution_count": 29,
   "id": "7e152b8c",
   "metadata": {},
   "outputs": [
    {
     "name": "stdout",
     "output_type": "stream",
     "text": [
      "Joint Testing for all algorithms\n",
      "Loading data for  Dataport  dataset\n",
      "Dropping missing values\n",
      "Generating predictions for : Mean\n",
      "Generating predictions for : Hart85\n",
      "Finding Edges, please wait ...\n",
      "Edge detection complete.\n",
      "Creating transition frame ...\n",
      "Transition frame created.\n",
      "Creating states frame ...\n",
      "States frame created.\n",
      "Finished.\n",
      "Generating predictions for : FHMM\n",
      "Generating predictions for : CO\n",
      "...............CO disaggregate_chunk running.............\n",
      "............  mae  ..............ing machine'\n",
      "                       Mean     Hart85  FHMM_EXACT          CO\n",
      "fridge freezer    40.245667  31.456425   12.007297   46.253910\n",
      "kettle            41.248398   3.876165   79.019981   45.823147\n",
      "television        17.984037  48.632225   36.521484   17.290758\n",
      "microwave          3.564352  45.057236    7.187840   25.670855\n",
      "toaster            6.483491  46.346046   13.180260   27.743292\n",
      "fan                1.044386  44.128090   17.349007   12.070207\n",
      "audio system       0.299297  44.397732   16.296959    0.285043\n",
      "dish washer      113.203316  19.870449   75.692421  105.827644\n",
      "washing machine   52.539513  50.246292   23.480179   50.703690\n",
      "............  rmse  ..............\n",
      "                       Mean      Hart85  FHMM_EXACT          CO\n",
      "fridge freezer    41.290843   51.981301   31.272972  159.065613\n",
      "kettle           209.275620   86.478702  436.818881  302.928738\n",
      "television        19.735621   81.435075   41.303477   27.346590\n",
      "microwave         29.628051   89.085540   69.203801  138.881167\n",
      "toaster           55.443262   95.575268  109.942714  125.293476\n",
      "fan                1.044386   84.026749   37.254805   25.794215\n",
      "audio system       2.536228   84.050403   36.979097    2.537829\n",
      "dish washer      351.136014  131.441802  389.556920  356.544462\n",
      "washing machine   53.439355  304.097872  199.929900  285.383144\n"
     ]
    }
   ],
   "source": [
    "api_results_experiment_3 = API(experiment3)"
   ]
  },
  {
   "cell_type": "code",
   "execution_count": 30,
   "id": "a562168a",
   "metadata": {},
   "outputs": [
    {
     "name": "stdout",
     "output_type": "stream",
     "text": [
      "Dataport_2_mae\n",
      "                       Mean     Hart85  FHMM_EXACT          CO\n",
      "fridge freezer    40.245667  31.456425   12.007297   46.253910\n",
      "kettle            41.248398   3.876165   79.019981   45.823147\n",
      "television        17.984037  48.632225   36.521484   17.290758\n",
      "microwave          3.564352  45.057236    7.187840   25.670855\n",
      "toaster            6.483491  46.346046   13.180260   27.743292\n",
      "fan                1.044386  44.128090   17.349007   12.070207\n",
      "audio system       0.299297  44.397732   16.296959    0.285043\n",
      "dish washer      113.203316  19.870449   75.692421  105.827644\n",
      "washing machine   52.539513  50.246292   23.480179   50.703690\n",
      "\n",
      "\n",
      "\n",
      "Dataport_2_rmse\n",
      "                       Mean      Hart85  FHMM_EXACT          CO\n",
      "fridge freezer    41.290843   51.981301   31.272972  159.065613\n",
      "kettle           209.275620   86.478702  436.818881  302.928738\n",
      "television        19.735621   81.435075   41.303477   27.346590\n",
      "microwave         29.628051   89.085540   69.203801  138.881167\n",
      "toaster           55.443262   95.575268  109.942714  125.293476\n",
      "fan                1.044386   84.026749   37.254805   25.794215\n",
      "audio system       2.536228   84.050403   36.979097    2.537829\n",
      "dish washer      351.136014  131.441802  389.556920  356.544462\n",
      "washing machine   53.439355  304.097872  199.929900  285.383144\n",
      "\n",
      "\n",
      "\n"
     ]
    }
   ],
   "source": [
    "errors_keys = api_results_experiment_3.errors_keys\n",
    "errors = api_results_experiment_3.errors\n",
    "for i in range(len(errors)):\n",
    "    print (errors_keys[i])\n",
    "    print (errors[i])\n",
    "    print (\"\\n\\n\")"
   ]
  }
 ],
 "metadata": {
  "kernelspec": {
   "display_name": "Python 3 (ipykernel)",
   "language": "python",
   "name": "python3"
  },
  "language_info": {
   "codemirror_mode": {
    "name": "ipython",
    "version": 3
   },
   "file_extension": ".py",
   "mimetype": "text/x-python",
   "name": "python",
   "nbconvert_exporter": "python",
   "pygments_lexer": "ipython3",
   "version": "3.9.16"
  }
 },
 "nbformat": 4,
 "nbformat_minor": 5
}
